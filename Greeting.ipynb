{
 "cells": [
  {
   "cell_type": "markdown",
   "metadata": {},
   "source": [
    "A Python Jupyter notebook to make the user feel welcome"
   ]
  },
  {
   "cell_type": "code",
   "execution_count": 3,
   "metadata": {},
   "outputs": [
    {
     "name": "stdout",
     "output_type": "stream",
     "text": [
      "Hello Alan Partridge. Welcome to this Juyter notebook.\n",
      "How are you today, Alan ?\n"
     ]
    }
   ],
   "source": [
    "# functions to interact with user\n",
    "def greeting(first_name,last_name):\n",
    "    \"\"\"\n",
    "    welcomes user\n",
    "    input: first_name, last_name\n",
    "    output: greeting\n",
    "    \"\"\"\n",
    "    print('Hello',first_name + ' ' + last_name + '.', 'Welcome to this Juyter notebook.')\n",
    "\n",
    "def question(first_name):\n",
    "    \"\"\"\n",
    "    asks user how they are\n",
    "    input: first_name\n",
    "    output: question \n",
    "    \"\"\"\n",
    "    print(first_name,'how are you today on a scale of 1-10?')\n",
    "\n",
    "# user input\n",
    "# note to self: need to get user to provide this data by typing in - use python input or raw_input function?\n",
    "first_name = 'Alan'\n",
    "last_name = 'Partridge'\n",
    "state = 7\n",
    "\n",
    "# output\n",
    "greeting(first_name,last_name)\n",
    "question(first_name)"
   ]
  }
 ],
 "metadata": {
  "kernelspec": {
   "display_name": "base",
   "language": "python",
   "name": "python3"
  },
  "language_info": {
   "codemirror_mode": {
    "name": "ipython",
    "version": 3
   },
   "file_extension": ".py",
   "mimetype": "text/x-python",
   "name": "python",
   "nbconvert_exporter": "python",
   "pygments_lexer": "ipython3",
   "version": "3.8.3"
  }
 },
 "nbformat": 4,
 "nbformat_minor": 2
}
