{
 "cells": [
  {
   "cell_type": "markdown",
   "metadata": {},
   "source": [
    "A Python Jupyter notebook to make the user feel welcome"
   ]
  },
  {
   "cell_type": "code",
   "execution_count": 3,
   "metadata": {},
   "outputs": [
    {
     "name": "stdout",
     "output_type": "stream",
     "text": [
      "Hello Alan Partridge. Welcome to this Juyter notebook.\n",
      "How are you today, Alan ?\n"
     ]
    }
   ],
   "source": [
    "def greeting(first_name,last_name):\n",
    "    print('Hello',first_name + ' ' + last_name + '.', 'Welcome to this Juyter notebook.')\n",
    "first_name = 'Alan'\n",
    "last_name = 'Partridge'\n",
    "\n",
    "def question(first_name):\n",
    "    print('How are you today,',first_name,'?')\n",
    "\n",
    "greeting(first_name,last_name)\n",
    "question(first_name)"
   ]
  }
 ],
 "metadata": {
  "kernelspec": {
   "display_name": "base",
   "language": "python",
   "name": "python3"
  },
  "language_info": {
   "codemirror_mode": {
    "name": "ipython",
    "version": 3
   },
   "file_extension": ".py",
   "mimetype": "text/x-python",
   "name": "python",
   "nbconvert_exporter": "python",
   "pygments_lexer": "ipython3",
   "version": "3.8.3"
  }
 },
 "nbformat": 4,
 "nbformat_minor": 2
}
